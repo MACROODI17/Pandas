{
 "cells": [
  {
   "cell_type": "code",
   "execution_count": 39,
   "metadata": {
    "id": "pcW0gLB3d4EW"
   },
   "outputs": [],
   "source": [
    "import pandas as pd\n",
    "import numpy as np\n",
    "from datetime import datetime as dt\n",
    "%matplotlib inline\n",
    "import matplotlib.pyplot as plt\n",
    "import seaborn as sns"
   ]
  },
  {
   "cell_type": "code",
   "execution_count": 40,
   "metadata": {
    "id": "2x4qhDxPd4Ea"
   },
   "outputs": [],
   "source": [
    "df = pd.read_json('file_01.json')"
   ]
  },
  {
   "cell_type": "code",
   "execution_count": 41,
   "metadata": {
    "id": "atUYyEbrd4Ec"
   },
   "outputs": [],
   "source": [
    "cols = {\n",
    "  'id клиента':'client_id',\n",
    "  'id счета':'account_id',\n",
    "  'Дата рождения':'birthdate',\n",
    "  'Пол' : 'sex',\n",
    "  'Клиент подключил услугу' : 'activate_service',\n",
    "  'Клиент отключил услугу':'deactivate_service'\n",
    "}\n",
    "\n",
    "df = df.rename(columns = cols)"
   ]
  },
  {
   "cell_type": "code",
   "execution_count": 42,
   "metadata": {
    "id": "BmhxTCznd4Ec"
   },
   "outputs": [],
   "source": [
    "df['activate_service'] = pd.to_datetime(df['activate_service'])\n",
    "df['deactivate_service']  = pd.to_datetime(df['deactivate_service'])\n",
    "df['month_activate']  = df['activate_service'].dt.to_period('M')\n",
    "df['month_deactivate']   = df['deactivate_service'].dt.to_period('M')"
   ]
  },
  {
   "cell_type": "code",
   "execution_count": 43,
   "metadata": {
    "colab": {
     "base_uri": "https://localhost:8080/"
    },
    "id": "c6RPwMRhd4Eb",
    "outputId": "ffd4f66f-ac2d-408a-edfa-3c73dde1d2fa"
   },
   "outputs": [
    {
     "name": "stdout",
     "output_type": "stream",
     "text": [
      "<class 'pandas.core.frame.DataFrame'>\n",
      "Int64Index: 1365 entries, 0 to 1364\n",
      "Data columns (total 8 columns):\n",
      " #   Column              Non-Null Count  Dtype         \n",
      "---  ------              --------------  -----         \n",
      " 0   client_id           1365 non-null   int64         \n",
      " 1   account_id          1365 non-null   int64         \n",
      " 2   birthdate           1365 non-null   object        \n",
      " 3   sex                 1362 non-null   float64       \n",
      " 4   activate_service    1365 non-null   datetime64[ns]\n",
      " 5   deactivate_service  1182 non-null   datetime64[ns]\n",
      " 6   month_activate      1365 non-null   period[M]     \n",
      " 7   month_deactivate    1182 non-null   period[M]     \n",
      "dtypes: datetime64[ns](2), float64(1), int64(2), object(1), period[M](2)\n",
      "memory usage: 96.0+ KB\n"
     ]
    }
   ],
   "source": [
    "df.info()"
   ]
  },
  {
   "cell_type": "code",
   "execution_count": 44,
   "metadata": {
    "colab": {
     "base_uri": "https://localhost:8080/",
     "height": 206
    },
    "id": "sXq3JvxHwIcO",
    "outputId": "c347d5b6-6369-4175-f82b-ba2b31e89b23"
   },
   "outputs": [
    {
     "data": {
      "text/html": [
       "<div>\n",
       "<style scoped>\n",
       "    .dataframe tbody tr th:only-of-type {\n",
       "        vertical-align: middle;\n",
       "    }\n",
       "\n",
       "    .dataframe tbody tr th {\n",
       "        vertical-align: top;\n",
       "    }\n",
       "\n",
       "    .dataframe thead th {\n",
       "        text-align: right;\n",
       "    }\n",
       "</style>\n",
       "<table border=\"1\" class=\"dataframe\">\n",
       "  <thead>\n",
       "    <tr style=\"text-align: right;\">\n",
       "      <th></th>\n",
       "      <th>client_id</th>\n",
       "      <th>account_id</th>\n",
       "      <th>birthdate</th>\n",
       "      <th>sex</th>\n",
       "      <th>activate_service</th>\n",
       "      <th>deactivate_service</th>\n",
       "      <th>month_activate</th>\n",
       "      <th>month_deactivate</th>\n",
       "    </tr>\n",
       "  </thead>\n",
       "  <tbody>\n",
       "    <tr>\n",
       "      <th>0</th>\n",
       "      <td>1236</td>\n",
       "      <td>3000</td>\n",
       "      <td>1976-11-02</td>\n",
       "      <td>0.0</td>\n",
       "      <td>2020-09-22 19:36:56</td>\n",
       "      <td>2021-09-10 19:24:19</td>\n",
       "      <td>2020-09</td>\n",
       "      <td>2021-09</td>\n",
       "    </tr>\n",
       "    <tr>\n",
       "      <th>1</th>\n",
       "      <td>1314</td>\n",
       "      <td>3001</td>\n",
       "      <td>1979-10-21</td>\n",
       "      <td>1.0</td>\n",
       "      <td>2020-04-29 11:13:18</td>\n",
       "      <td>NaT</td>\n",
       "      <td>2020-04</td>\n",
       "      <td>NaT</td>\n",
       "    </tr>\n",
       "    <tr>\n",
       "      <th>2</th>\n",
       "      <td>1248</td>\n",
       "      <td>3002</td>\n",
       "      <td>1964-11-15</td>\n",
       "      <td>1.0</td>\n",
       "      <td>2020-09-30 14:48:46</td>\n",
       "      <td>2021-04-30 10:26:50</td>\n",
       "      <td>2020-09</td>\n",
       "      <td>2021-04</td>\n",
       "    </tr>\n",
       "    <tr>\n",
       "      <th>3</th>\n",
       "      <td>2053</td>\n",
       "      <td>3003</td>\n",
       "      <td>1979-09-12</td>\n",
       "      <td>0.0</td>\n",
       "      <td>2020-03-03 17:10:30</td>\n",
       "      <td>2020-09-10 16:19:03</td>\n",
       "      <td>2020-03</td>\n",
       "      <td>2020-09</td>\n",
       "    </tr>\n",
       "    <tr>\n",
       "      <th>4</th>\n",
       "      <td>2016</td>\n",
       "      <td>3004</td>\n",
       "      <td>1973-03-23</td>\n",
       "      <td>0.0</td>\n",
       "      <td>2019-08-19 13:24:27</td>\n",
       "      <td>2019-11-28 15:49:09</td>\n",
       "      <td>2019-08</td>\n",
       "      <td>2019-11</td>\n",
       "    </tr>\n",
       "  </tbody>\n",
       "</table>\n",
       "</div>"
      ],
      "text/plain": [
       "   client_id  account_id   birthdate  sex    activate_service  \\\n",
       "0       1236        3000  1976-11-02  0.0 2020-09-22 19:36:56   \n",
       "1       1314        3001  1979-10-21  1.0 2020-04-29 11:13:18   \n",
       "2       1248        3002  1964-11-15  1.0 2020-09-30 14:48:46   \n",
       "3       2053        3003  1979-09-12  0.0 2020-03-03 17:10:30   \n",
       "4       2016        3004  1973-03-23  0.0 2019-08-19 13:24:27   \n",
       "\n",
       "   deactivate_service month_activate month_deactivate  \n",
       "0 2021-09-10 19:24:19        2020-09          2021-09  \n",
       "1                 NaT        2020-04              NaT  \n",
       "2 2021-04-30 10:26:50        2020-09          2021-04  \n",
       "3 2020-09-10 16:19:03        2020-03          2020-09  \n",
       "4 2019-11-28 15:49:09        2019-08          2019-11  "
      ]
     },
     "execution_count": 44,
     "metadata": {},
     "output_type": "execute_result"
    }
   ],
   "source": [
    "df.head()"
   ]
  },
  {
   "cell_type": "markdown",
   "metadata": {},
   "source": [
    "# Подключения и отключения"
   ]
  },
  {
   "cell_type": "code",
   "execution_count": 45,
   "metadata": {
    "id": "EyesEWmcd4Ed"
   },
   "outputs": [],
   "source": [
    "#подписки по месяцам\n",
    "df_activations = \\\n",
    "    df.groupby(df['month_activate']). \\\n",
    "    agg({'activate_service':'count'}). \\\n",
    "    sort_values('month_activate'). \\\n",
    "    rename(columns={'activate_service':'amount_activations'})"
   ]
  },
  {
   "cell_type": "code",
   "execution_count": 46,
   "metadata": {
    "id": "4MzKQ8q8d4Ed"
   },
   "outputs": [],
   "source": [
    "#отписки по месяцам\n",
    "df_deactivations = \\\n",
    "    df.groupby(df['month_deactivate']). \\\n",
    "    agg({'deactivate_service':'count'}). \\\n",
    "    sort_values('month_deactivate'). \\\n",
    "    rename(columns={'deactivate_service':'amount_deactivations'})"
   ]
  },
  {
   "cell_type": "code",
   "execution_count": 47,
   "metadata": {
    "colab": {
     "base_uri": "https://localhost:8080/",
     "height": 546
    },
    "id": "OM6znce29OW3",
    "outputId": "5c694c65-77ef-435b-deaa-e462921bfb63"
   },
   "outputs": [
    {
     "data": {
      "text/plain": [
       "Text(0, 0.5, 'Подключения')"
      ]
     },
     "execution_count": 47,
     "metadata": {},
     "output_type": "execute_result"
    },
    {
     "data": {
      "image/png": "[encoded data removed]",
      "text/plain": [
       "<Figure size 1296x576 with 1 Axes>"
      ]
     },
     "metadata": {
      "needs_background": "light"
     },
     "output_type": "display_data"
    }
   ],
   "source": [
    "fig = df_activations.plot.bar(figsize=(18,8))\n",
    "fig.set_title('Подключения по месяцам')\n",
    "fig.set_xlabel('Месяц')\n",
    "fig.set_ylabel('Подключения')"
   ]
  },
  {
   "cell_type": "code",
   "execution_count": 48,
   "metadata": {
    "colab": {
     "base_uri": "https://localhost:8080/",
     "height": 546
    },
    "id": "nzn7YJnAhbCU",
    "outputId": "b747607d-5f87-45f2-8b63-2794e4906049"
   },
   "outputs": [
    {
     "data": {
      "text/plain": [
       "Text(0, 0.5, 'Отключения')"
      ]
     },
     "execution_count": 48,
     "metadata": {},
     "output_type": "execute_result"
    },
    {
     "data": {
      "image/png": "[encoded data removed]",
      "text/plain": [
       "<Figure size 1296x576 with 1 Axes>"
      ]
     },
     "metadata": {
      "needs_background": "light"
     },
     "output_type": "display_data"
    }
   ],
   "source": [
    "fig = df_deactivations.plot.bar(figsize=(18,8))\n",
    "fig.set_title('Отключения по месяцам')\n",
    "fig.set_xlabel('Месяц')\n",
    "fig.set_ylabel('Отключения')"
   ]
  },
  {
   "cell_type": "code",
   "execution_count": 49,
   "metadata": {
    "id": "vTM-yRgmd4Ef"
   },
   "outputs": [],
   "source": [
    "#датафрейм с подписками и отписками\n",
    "df_activations_deactivations = df_deactivations.join(df_activations, how='outer')\n",
    "# df_activations_deactivations.head(10)"
   ]
  },
  {
   "cell_type": "code",
   "execution_count": 50,
   "metadata": {
    "colab": {
     "base_uri": "https://localhost:8080/",
     "height": 532
    },
    "id": "1CEiXtZL_XtC",
    "outputId": "d8f70c49-343b-47a5-9546-f71f3c734bb2"
   },
   "outputs": [
    {
     "data": {
      "text/plain": [
       "Text(0, 0.5, 'Количество')"
      ]
     },
     "execution_count": 50,
     "metadata": {},
     "output_type": "execute_result"
    },
    {
     "data": {
      "image/png": "[encoded data removed]",
      "text/plain": [
       "<Figure size 1296x576 with 1 Axes>"
      ]
     },
     "metadata": {
      "needs_background": "light"
     },
     "output_type": "display_data"
    }
   ],
   "source": [
    "fig = df_activations_deactivations.plot.bar(figsize=(18,8))\n",
    "fig.set_title('Подключения и отключения')\n",
    "fig.set_xlabel('Месяц')\n",
    "fig.set_ylabel('Количество')"
   ]
  },
  {
   "cell_type": "code",
   "execution_count": 51,
   "metadata": {
    "id": "madPEshQd4Eg"
   },
   "outputs": [],
   "source": [
    "# Сальдо подключений/отключений\n",
    "df_activations_deactivations = df_activations_deactivations.fillna(0)\n",
    "df_activations_deactivations['saldo'] = \\\n",
    "  df_activations_deactivations['amount_activations'] - df_activations_deactivations['amount_deactivations']"
   ]
  },
  {
   "cell_type": "code",
   "execution_count": 52,
   "metadata": {
    "colab": {
     "base_uri": "https://localhost:8080/",
     "height": 206
    },
    "id": "gtcNJkomCKda",
    "outputId": "9e205bce-8f8d-4a2b-d7b8-7ab123139a18"
   },
   "outputs": [
    {
     "data": {
      "text/html": [
       "<div>\n",
       "<style scoped>\n",
       "    .dataframe tbody tr th:only-of-type {\n",
       "        vertical-align: middle;\n",
       "    }\n",
       "\n",
       "    .dataframe tbody tr th {\n",
       "        vertical-align: top;\n",
       "    }\n",
       "\n",
       "    .dataframe thead th {\n",
       "        text-align: right;\n",
       "    }\n",
       "</style>\n",
       "<table border=\"1\" class=\"dataframe\">\n",
       "  <thead>\n",
       "    <tr style=\"text-align: right;\">\n",
       "      <th></th>\n",
       "      <th>amount_deactivations</th>\n",
       "      <th>amount_activations</th>\n",
       "      <th>saldo</th>\n",
       "    </tr>\n",
       "  </thead>\n",
       "  <tbody>\n",
       "    <tr>\n",
       "      <th>2021-12</th>\n",
       "      <td>22.0</td>\n",
       "      <td>0.0</td>\n",
       "      <td>-22.0</td>\n",
       "    </tr>\n",
       "    <tr>\n",
       "      <th>2022-01</th>\n",
       "      <td>13.0</td>\n",
       "      <td>0.0</td>\n",
       "      <td>-13.0</td>\n",
       "    </tr>\n",
       "    <tr>\n",
       "      <th>2022-02</th>\n",
       "      <td>15.0</td>\n",
       "      <td>0.0</td>\n",
       "      <td>-15.0</td>\n",
       "    </tr>\n",
       "    <tr>\n",
       "      <th>2022-03</th>\n",
       "      <td>38.0</td>\n",
       "      <td>0.0</td>\n",
       "      <td>-38.0</td>\n",
       "    </tr>\n",
       "    <tr>\n",
       "      <th>2022-04</th>\n",
       "      <td>7.0</td>\n",
       "      <td>0.0</td>\n",
       "      <td>-7.0</td>\n",
       "    </tr>\n",
       "  </tbody>\n",
       "</table>\n",
       "</div>"
      ],
      "text/plain": [
       "         amount_deactivations  amount_activations  saldo\n",
       "2021-12                  22.0                 0.0  -22.0\n",
       "2022-01                  13.0                 0.0  -13.0\n",
       "2022-02                  15.0                 0.0  -15.0\n",
       "2022-03                  38.0                 0.0  -38.0\n",
       "2022-04                   7.0                 0.0   -7.0"
      ]
     },
     "execution_count": 52,
     "metadata": {},
     "output_type": "execute_result"
    }
   ],
   "source": [
    "df_activations_deactivations.tail()"
   ]
  },
  {
   "cell_type": "code",
   "execution_count": 53,
   "metadata": {
    "colab": {
     "base_uri": "https://localhost:8080/",
     "height": 532
    },
    "id": "_XHAoFJfd4Eg",
    "outputId": "f8d041d8-0a2b-459e-d39b-c0035c950fe5"
   },
   "outputs": [
    {
     "data": {
      "text/plain": [
       "Text(0, 0.5, 'Количество')"
      ]
     },
     "execution_count": 53,
     "metadata": {},
     "output_type": "execute_result"
    },
    {
     "data": {
      "image/png": "[encoded data removed]",
      "text/plain": [
       "<Figure size 1296x576 with 1 Axes>"
      ]
     },
     "metadata": {
      "needs_background": "light"
     },
     "output_type": "display_data"
    }
   ],
   "source": [
    "fig = df_activations_deactivations.loc[df_activations_deactivations.index<'2021-01'].saldo.plot.bar(figsize=(18,8))\n",
    "fig.set_title('Сальдо подключений/отключений')\n",
    "fig.set_xlabel('Месяц')\n",
    "fig.set_ylabel('Количество')"
   ]
  },
  {
   "cell_type": "markdown",
   "metadata": {
    "id": "nJ5LhAD4AD5f"
   },
   "source": [
    "# Прогнозирование подписок/отписок"
   ]
  },
  {
   "cell_type": "code",
   "execution_count": 54,
   "metadata": {
    "colab": {
     "base_uri": "https://localhost:8080/"
    },
    "id": "rSekw-cFogHd",
    "outputId": "7778c987-fba2-4ef4-f5c4-0e7c6a8f399b"
   },
   "outputs": [
    {
     "data": {
      "text/plain": [
       "14.333333333333334"
      ]
     },
     "execution_count": 54,
     "metadata": {},
     "output_type": "execute_result"
    }
   ],
   "source": [
    "# Берем средний прирост подписок за 2020\n",
    "mean_activations_2020 = (df_activations - df_activations.shift(1))[-12:].mean()[0]\n",
    "mean_activations_2020"
   ]
  },
  {
   "cell_type": "code",
   "execution_count": 55,
   "metadata": {
    "colab": {
     "base_uri": "https://localhost:8080/"
    },
    "id": "R8pYCv9HpXi_",
    "outputId": "a94d82ac-8788-4013-90d5-43e2696740e6"
   },
   "outputs": [
    {
     "data": {
      "text/plain": [
       "3.0833333333333335"
      ]
     },
     "execution_count": 55,
     "metadata": {},
     "output_type": "execute_result"
    }
   ],
   "source": [
    "# Берем средний прирост отписок за 2020\n",
    "df_deactivations_2020 = df_deactivations.loc[df_deactivations.index < '2021-01']\n",
    "mean_deactivations_2020 = (df_deactivations_2020 - df_deactivations_2020.shift(1))[-12:].mean()[0]\n",
    "mean_deactivations_2020"
   ]
  },
  {
   "cell_type": "code",
   "execution_count": 56,
   "metadata": {
    "colab": {
     "base_uri": "https://localhost:8080/"
    },
    "id": "zyUTd06CqAhO",
    "outputId": "0a6a5e09-ec80-410a-f802-f7265bdd255a"
   },
   "outputs": [
    {
     "data": {
      "text/plain": [
       "-3.5"
      ]
     },
     "execution_count": 56,
     "metadata": {},
     "output_type": "execute_result"
    }
   ],
   "source": [
    "# Ради интереса посмотрели показатель за 2021 по отпискам\n",
    "df_deactivations_2021 = df_deactivations.loc[(df_deactivations.index >= '2020-12') & (df_deactivations.index < '2022-01')]\n",
    "mean_deactivations_2021 = (df_deactivations_2021 - df_deactivations_2021.shift(1))[-12:].mean()[0] #.mean(skipna=True)\n",
    "mean_deactivations_2021"
   ]
  },
  {
   "cell_type": "code",
   "execution_count": 57,
   "metadata": {
    "colab": {
     "base_uri": "https://localhost:8080/",
     "height": 206
    },
    "id": "0CWRsCWVABlu",
    "outputId": "1c376d35-d368-4105-fbc7-8d8b552530b5"
   },
   "outputs": [
    {
     "data": {
      "text/html": [
       "<div>\n",
       "<style scoped>\n",
       "    .dataframe tbody tr th:only-of-type {\n",
       "        vertical-align: middle;\n",
       "    }\n",
       "\n",
       "    .dataframe tbody tr th {\n",
       "        vertical-align: top;\n",
       "    }\n",
       "\n",
       "    .dataframe thead th {\n",
       "        text-align: right;\n",
       "    }\n",
       "</style>\n",
       "<table border=\"1\" class=\"dataframe\">\n",
       "  <thead>\n",
       "    <tr style=\"text-align: right;\">\n",
       "      <th></th>\n",
       "      <th>amount_deactivations</th>\n",
       "      <th>amount_activations</th>\n",
       "      <th>saldo</th>\n",
       "    </tr>\n",
       "  </thead>\n",
       "  <tbody>\n",
       "    <tr>\n",
       "      <th>2021-12</th>\n",
       "      <td>22.0</td>\n",
       "      <td>0.0</td>\n",
       "      <td>-22.0</td>\n",
       "    </tr>\n",
       "    <tr>\n",
       "      <th>2022-01</th>\n",
       "      <td>13.0</td>\n",
       "      <td>0.0</td>\n",
       "      <td>-13.0</td>\n",
       "    </tr>\n",
       "    <tr>\n",
       "      <th>2022-02</th>\n",
       "      <td>15.0</td>\n",
       "      <td>0.0</td>\n",
       "      <td>-15.0</td>\n",
       "    </tr>\n",
       "    <tr>\n",
       "      <th>2022-03</th>\n",
       "      <td>38.0</td>\n",
       "      <td>0.0</td>\n",
       "      <td>-38.0</td>\n",
       "    </tr>\n",
       "    <tr>\n",
       "      <th>2022-04</th>\n",
       "      <td>7.0</td>\n",
       "      <td>0.0</td>\n",
       "      <td>-7.0</td>\n",
       "    </tr>\n",
       "  </tbody>\n",
       "</table>\n",
       "</div>"
      ],
      "text/plain": [
       "         amount_deactivations  amount_activations  saldo\n",
       "2021-12                  22.0                 0.0  -22.0\n",
       "2022-01                  13.0                 0.0  -13.0\n",
       "2022-02                  15.0                 0.0  -15.0\n",
       "2022-03                  38.0                 0.0  -38.0\n",
       "2022-04                   7.0                 0.0   -7.0"
      ]
     },
     "execution_count": 57,
     "metadata": {},
     "output_type": "execute_result"
    }
   ],
   "source": [
    "df_forecast = df_activations_deactivations\n",
    "df_forecast.tail()"
   ]
  },
  {
   "cell_type": "code",
   "execution_count": 58,
   "metadata": {
    "colab": {
     "base_uri": "https://localhost:8080/"
    },
    "id": "6DlCLJE5AfJJ",
    "outputId": "3e6cc18c-08c8-4442-d808-a43029469222"
   },
   "outputs": [
    {
     "name": "stderr",
     "output_type": "stream",
     "text": [
      "/opt/tljh/user/lib/python3.7/site-packages/ipykernel_launcher.py:3: FutureWarning: Slicing a positional slice with .loc is not supported, and will raise TypeError in a future version.  Use .loc with labels or .iloc with positions instead.\n",
      "  This is separate from the ipykernel package so we can avoid doing imports until\n"
     ]
    }
   ],
   "source": [
    "df_forecast.loc[-16:, 'amount_activations'] = \\\n",
    "  df_forecast.loc['2020-12', 'amount_activations'] + \\\n",
    "  np.array(range(1,17)) * mean_activations_2020"
   ]
  },
  {
   "cell_type": "code",
   "execution_count": 59,
   "metadata": {
    "colab": {
     "base_uri": "https://localhost:8080/"
    },
    "id": "W7he3M7BEGZA",
    "outputId": "aca0f6cc-5fc9-4eb6-afc3-020d55a3abfd"
   },
   "outputs": [
    {
     "name": "stderr",
     "output_type": "stream",
     "text": [
      "/opt/tljh/user/lib/python3.7/site-packages/ipykernel_launcher.py:3: FutureWarning: Slicing a positional slice with .loc is not supported, and will raise TypeError in a future version.  Use .loc with labels or .iloc with positions instead.\n",
      "  This is separate from the ipykernel package so we can avoid doing imports until\n"
     ]
    }
   ],
   "source": [
    "df_forecast.loc[-16:, 'amount_deactivations'] = \\\n",
    "  df_forecast.loc['2020-12', 'amount_deactivations'] + \\\n",
    "  np.array(range(1,17)) * mean_deactivations_2020"
   ]
  },
  {
   "cell_type": "code",
   "execution_count": 60,
   "metadata": {
    "id": "k-0TkjPXEPJs"
   },
   "outputs": [],
   "source": [
    "df_forecast['saldo'] = df_forecast['amount_activations'] - df_forecast['amount_deactivations']"
   ]
  },
  {
   "cell_type": "code",
   "execution_count": 61,
   "metadata": {
    "colab": {
     "base_uri": "https://localhost:8080/",
     "height": 532
    },
    "id": "3mpQbX3YCem5",
    "outputId": "171b13c7-e401-4729-9484-4538db426ea4"
   },
   "outputs": [
    {
     "data": {
      "text/plain": [
       "Text(0, 0.5, 'Количество')"
      ]
     },
     "execution_count": 61,
     "metadata": {},
     "output_type": "execute_result"
    },
    {
     "data": {
      "image/png": "[encoded data removed]",
      "text/plain": [
       "<Figure size 1296x576 with 1 Axes>"
      ]
     },
     "metadata": {
      "needs_background": "light"
     },
     "output_type": "display_data"
    }
   ],
   "source": [
    "fig = df_forecast.plot.bar(figsize=(18,8))\n",
    "fig.set_title('Прогноз на 2021 год')\n",
    "fig.set_xlabel('Месяц')\n",
    "fig.set_ylabel('Количество')"
   ]
  },
  {
   "cell_type": "code",
   "execution_count": null,
   "metadata": {
    "colab": {
     "base_uri": "https://localhost:8080/"
    },
    "id": "_53_J9s3d4Eh",
    "outputId": "9e222fcc-f26f-46e5-fe3a-93ad13d49aca"
   },
   "outputs": [],
   "source": [
    "# Берем средний прирост сальдо за последний полгода\n",
    "# df_saldo_2020 = df_activations_deactivations.loc[\n",
    "#   (df_activations_deactivations.index >= '2020-01') &\n",
    "#   (df_activations_deactivations.index < '2021-01')\n",
    "# ]\n",
    "\n",
    "# (df_saldo_2020.saldo - df_saldo_2020.saldo.shift(1)).mean()"
   ]
  },
  {
   "cell_type": "code",
   "execution_count": null,
   "metadata": {
    "id": "ST7vAG7z-aeT"
   },
   "outputs": [],
   "source": [
    "# df_activations_deactivations = df_deactivations.join(df_activations, how='outer')"
   ]
  },
  {
   "cell_type": "code",
   "execution_count": null,
   "metadata": {
    "colab": {
     "base_uri": "https://localhost:8080/",
     "height": 206
    },
    "id": "5egC9NP5d4Eh",
    "outputId": "b87c898b-4748-4344-a820-847f63d94cd5"
   },
   "outputs": [
    {
     "data": {
      "text/html": [
       "\n",
       "  <div id=\"df-4ac18101-786f-4979-ba1f-0e03cd683b24\">\n",
       "    <div class=\"colab-df-container\">\n",
       "      <div>\n",
       "<style scoped>\n",
       "    .dataframe tbody tr th:only-of-type {\n",
       "        vertical-align: middle;\n",
       "    }\n",
       "\n",
       "    .dataframe tbody tr th {\n",
       "        vertical-align: top;\n",
       "    }\n",
       "\n",
       "    .dataframe thead th {\n",
       "        text-align: right;\n",
       "    }\n",
       "</style>\n",
       "<table border=\"1\" class=\"dataframe\">\n",
       "  <thead>\n",
       "    <tr style=\"text-align: right;\">\n",
       "      <th></th>\n",
       "      <th>client_id</th>\n",
       "      <th>account_id</th>\n",
       "      <th>birthdate</th>\n",
       "      <th>sex</th>\n",
       "      <th>activate_service</th>\n",
       "      <th>deactivate_service</th>\n",
       "      <th>month_activate</th>\n",
       "      <th>month_deactivate</th>\n",
       "    </tr>\n",
       "  </thead>\n",
       "  <tbody>\n",
       "    <tr>\n",
       "      <th>0</th>\n",
       "      <td>1236</td>\n",
       "      <td>3000</td>\n",
       "      <td>1976-11-02</td>\n",
       "      <td>0.0</td>\n",
       "      <td>2020-09-22 19:36:56</td>\n",
       "      <td>2021-09-10 19:24:19</td>\n",
       "      <td>2020-09</td>\n",
       "      <td>2021-09</td>\n",
       "    </tr>\n",
       "    <tr>\n",
       "      <th>1</th>\n",
       "      <td>1314</td>\n",
       "      <td>3001</td>\n",
       "      <td>1979-10-21</td>\n",
       "      <td>1.0</td>\n",
       "      <td>2020-04-29 11:13:18</td>\n",
       "      <td>NaT</td>\n",
       "      <td>2020-04</td>\n",
       "      <td>NaT</td>\n",
       "    </tr>\n",
       "    <tr>\n",
       "      <th>2</th>\n",
       "      <td>1248</td>\n",
       "      <td>3002</td>\n",
       "      <td>1964-11-15</td>\n",
       "      <td>1.0</td>\n",
       "      <td>2020-09-30 14:48:46</td>\n",
       "      <td>2021-04-30 10:26:50</td>\n",
       "      <td>2020-09</td>\n",
       "      <td>2021-04</td>\n",
       "    </tr>\n",
       "    <tr>\n",
       "      <th>3</th>\n",
       "      <td>2053</td>\n",
       "      <td>3003</td>\n",
       "      <td>1979-09-12</td>\n",
       "      <td>0.0</td>\n",
       "      <td>2020-03-03 17:10:30</td>\n",
       "      <td>2020-09-10 16:19:03</td>\n",
       "      <td>2020-03</td>\n",
       "      <td>2020-09</td>\n",
       "    </tr>\n",
       "    <tr>\n",
       "      <th>4</th>\n",
       "      <td>2016</td>\n",
       "      <td>3004</td>\n",
       "      <td>1973-03-23</td>\n",
       "      <td>0.0</td>\n",
       "      <td>2019-08-19 13:24:27</td>\n",
       "      <td>2019-11-28 15:49:09</td>\n",
       "      <td>2019-08</td>\n",
       "      <td>2019-11</td>\n",
       "    </tr>\n",
       "  </tbody>\n",
       "</table>\n",
       "</div>\n",
       "      <button class=\"colab-df-convert\" onclick=\"convertToInteractive('df-4ac18101-786f-4979-ba1f-0e03cd683b24')\"\n",
       "              title=\"Convert this dataframe to an interactive table.\"\n",
       "              style=\"display:none;\">\n",
       "        \n",
       "  <svg xmlns=\"http://www.w3.org/2000/svg\" height=\"24px\"viewBox=\"0 0 24 24\"\n",
       "       width=\"24px\">\n",
       "    <path d=\"M0 0h24v24H0V0z\" fill=\"none\"/>\n",
       "    <path d=\"M18.56 5.44l.94 2.06.94-2.06 2.06-.94-2.06-.94-.94-2.06-.94 2.06-2.06.94zm-11 1L8.5 8.5l.94-2.06 2.06-.94-2.06-.94L8.5 2.5l-.94 2.06-2.06.94zm10 10l.94 2.06.94-2.06 2.06-.94-2.06-.94-.94-2.06-.94 2.06-2.06.94z\"/><path d=\"M17.41 7.96l-1.37-1.37c-.4-.4-.92-.59-1.43-.59-.52 0-1.04.2-1.43.59L10.3 9.45l-7.72 7.72c-.78.78-.78 2.05 0 2.83L4 21.41c.39.39.9.59 1.41.59.51 0 1.02-.2 1.41-.59l7.78-7.78 2.81-2.81c.8-.78.8-2.07 0-2.86zM5.41 20L4 18.59l7.72-7.72 1.47 1.35L5.41 20z\"/>\n",
       "  </svg>\n",
       "      </button>\n",
       "      \n",
       "  <style>\n",
       "    .colab-df-container {\n",
       "      display:flex;\n",
       "      flex-wrap:wrap;\n",
       "      gap: 12px;\n",
       "    }\n",
       "\n",
       "    .colab-df-convert {\n",
       "      background-color: #E8F0FE;\n",
       "      border: none;\n",
       "      border-radius: 50%;\n",
       "      cursor: pointer;\n",
       "      display: none;\n",
       "      fill: #1967D2;\n",
       "      height: 32px;\n",
       "      padding: 0 0 0 0;\n",
       "      width: 32px;\n",
       "    }\n",
       "\n",
       "    .colab-df-convert:hover {\n",
       "      background-color: #E2EBFA;\n",
       "      box-shadow: 0px 1px 2px rgba(60, 64, 67, 0.3), 0px 1px 3px 1px rgba(60, 64, 67, 0.15);\n",
       "      fill: #174EA6;\n",
       "    }\n",
       "\n",
       "    [theme=dark] .colab-df-convert {\n",
       "      background-color: #3B4455;\n",
       "      fill: #D2E3FC;\n",
       "    }\n",
       "\n",
       "    [theme=dark] .colab-df-convert:hover {\n",
       "      background-color: #434B5C;\n",
       "      box-shadow: 0px 1px 3px 1px rgba(0, 0, 0, 0.15);\n",
       "      filter: drop-shadow(0px 1px 2px rgba(0, 0, 0, 0.3));\n",
       "      fill: #FFFFFF;\n",
       "    }\n",
       "  </style>\n",
       "\n",
       "      <script>\n",
       "        const buttonEl =\n",
       "          document.querySelector('#df-4ac18101-786f-4979-ba1f-0e03cd683b24 button.colab-df-convert');\n",
       "        buttonEl.style.display =\n",
       "          google.colab.kernel.accessAllowed ? 'block' : 'none';\n",
       "\n",
       "        async function convertToInteractive(key) {\n",
       "          const element = document.querySelector('#df-4ac18101-786f-4979-ba1f-0e03cd683b24');\n",
       "          const dataTable =\n",
       "            await google.colab.kernel.invokeFunction('convertToInteractive',\n",
       "                                                     [key], {});\n",
       "          if (!dataTable) return;\n",
       "\n",
       "          const docLinkHtml = 'Like what you see? Visit the ' +\n",
       "            '<a target=\"_blank\" href=https://colab.research.google.com/notebooks/data_table.ipynb>data table notebook</a>'\n",
       "            + ' to learn more about interactive tables.';\n",
       "          element.innerHTML = '';\n",
       "          dataTable['output_type'] = 'display_data';\n",
       "          await google.colab.output.renderOutput(dataTable, element);\n",
       "          const docLink = document.createElement('div');\n",
       "          docLink.innerHTML = docLinkHtml;\n",
       "          element.appendChild(docLink);\n",
       "        }\n",
       "      </script>\n",
       "    </div>\n",
       "  </div>\n",
       "  "
      ],
      "text/plain": [
       "   client_id  account_id   birthdate  sex    activate_service  \\\n",
       "0       1236        3000  1976-11-02  0.0 2020-09-22 19:36:56   \n",
       "1       1314        3001  1979-10-21  1.0 2020-04-29 11:13:18   \n",
       "2       1248        3002  1964-11-15  1.0 2020-09-30 14:48:46   \n",
       "3       2053        3003  1979-09-12  0.0 2020-03-03 17:10:30   \n",
       "4       2016        3004  1973-03-23  0.0 2019-08-19 13:24:27   \n",
       "\n",
       "   deactivate_service month_activate month_deactivate  \n",
       "0 2021-09-10 19:24:19        2020-09          2021-09  \n",
       "1                 NaT        2020-04              NaT  \n",
       "2 2021-04-30 10:26:50        2020-09          2021-04  \n",
       "3 2020-09-10 16:19:03        2020-03          2020-09  \n",
       "4 2019-11-28 15:49:09        2019-08          2019-11  "
      ]
     },
     "execution_count": 49,
     "metadata": {},
     "output_type": "execute_result"
    }
   ],
   "source": [
    "df.head()"
   ]
  },
  {
   "cell_type": "markdown",
   "metadata": {
    "id": "D2Lg1QD3FFip"
   },
   "source": [
    "# Портрет пользователя"
   ]
  },
  {
   "cell_type": "code",
   "execution_count": 62,
   "metadata": {
    "id": "4VN4awqrFfZO"
   },
   "outputs": [],
   "source": [
    "# Проверка на противоречия в данных\n",
    "assert df[['client_id','sex','birthdate']].drop_duplicates().shape[0] == \\\n",
    "  df[['client_id']].drop_duplicates().shape[0]"
   ]
  },
  {
   "cell_type": "code",
   "execution_count": 66,
   "metadata": {
    "id": "vHtrml_Cd4Ei"
   },
   "outputs": [],
   "source": [
    "# Агрегация с вычислением количетсва счетов и количества подклюений на пользователя\n",
    "df_clients = df \\\n",
    "  .groupby('client_id') \\\n",
    "  .agg({'account_id':'nunique',\n",
    "        'birthdate':'max',\n",
    "        'sex':'max',\n",
    "        'activate_service':'nunique'\n",
    "        })"
   ]
  },
  {
   "cell_type": "code",
   "execution_count": 67,
   "metadata": {
    "id": "oVO5m-GUY2Mo"
   },
   "outputs": [],
   "source": [
    "# Расчет возраста\n",
    "df_clients['age'] = (pd.Timestamp('now') - pd.to_datetime(df_clients['birthdate'])).astype('timedelta64[Y]').astype('int')"
   ]
  },
  {
   "cell_type": "code",
   "execution_count": 68,
   "metadata": {
    "colab": {
     "base_uri": "https://localhost:8080/",
     "height": 237
    },
    "id": "Kg49e5x3UPzi",
    "outputId": "5d693d35-3180-4caa-af57-48e6db871963"
   },
   "outputs": [
    {
     "data": {
      "text/html": [
       "<div>\n",
       "<style scoped>\n",
       "    .dataframe tbody tr th:only-of-type {\n",
       "        vertical-align: middle;\n",
       "    }\n",
       "\n",
       "    .dataframe tbody tr th {\n",
       "        vertical-align: top;\n",
       "    }\n",
       "\n",
       "    .dataframe thead th {\n",
       "        text-align: right;\n",
       "    }\n",
       "</style>\n",
       "<table border=\"1\" class=\"dataframe\">\n",
       "  <thead>\n",
       "    <tr style=\"text-align: right;\">\n",
       "      <th></th>\n",
       "      <th>account_id</th>\n",
       "      <th>birthdate</th>\n",
       "      <th>sex</th>\n",
       "      <th>activate_service</th>\n",
       "      <th>age</th>\n",
       "    </tr>\n",
       "    <tr>\n",
       "      <th>client_id</th>\n",
       "      <th></th>\n",
       "      <th></th>\n",
       "      <th></th>\n",
       "      <th></th>\n",
       "      <th></th>\n",
       "    </tr>\n",
       "  </thead>\n",
       "  <tbody>\n",
       "    <tr>\n",
       "      <th>1716</th>\n",
       "      <td>6</td>\n",
       "      <td>1964-08-27</td>\n",
       "      <td>0.0</td>\n",
       "      <td>22</td>\n",
       "      <td>57</td>\n",
       "    </tr>\n",
       "    <tr>\n",
       "      <th>2028</th>\n",
       "      <td>4</td>\n",
       "      <td>1967-01-31</td>\n",
       "      <td>0.0</td>\n",
       "      <td>7</td>\n",
       "      <td>55</td>\n",
       "    </tr>\n",
       "    <tr>\n",
       "      <th>1486</th>\n",
       "      <td>1</td>\n",
       "      <td>1998-11-19</td>\n",
       "      <td>1.0</td>\n",
       "      <td>7</td>\n",
       "      <td>23</td>\n",
       "    </tr>\n",
       "  </tbody>\n",
       "</table>\n",
       "</div>"
      ],
      "text/plain": [
       "           account_id   birthdate  sex  activate_service  age\n",
       "client_id                                                    \n",
       "1716                6  1964-08-27  0.0                22   57\n",
       "2028                4  1967-01-31  0.0                 7   55\n",
       "1486                1  1998-11-19  1.0                 7   23"
      ]
     },
     "execution_count": 68,
     "metadata": {},
     "output_type": "execute_result"
    }
   ],
   "source": [
    "# Взглянули на максимальное количетсво подключений услуг среди пользователей\n",
    "df_clients.sort_values('activate_service', ascending=False).head(3)"
   ]
  },
  {
   "cell_type": "code",
   "execution_count": 69,
   "metadata": {
    "colab": {
     "base_uri": "https://localhost:8080/",
     "height": 455
    },
    "id": "UBA9WRQcUPfJ",
    "outputId": "83b0416b-1fa0-4434-8b71-225a4ec4b881"
   },
   "outputs": [
    {
     "data": {
      "text/html": [
       "<div>\n",
       "<style scoped>\n",
       "    .dataframe tbody tr th:only-of-type {\n",
       "        vertical-align: middle;\n",
       "    }\n",
       "\n",
       "    .dataframe tbody tr th {\n",
       "        vertical-align: top;\n",
       "    }\n",
       "\n",
       "    .dataframe thead th {\n",
       "        text-align: right;\n",
       "    }\n",
       "</style>\n",
       "<table border=\"1\" class=\"dataframe\">\n",
       "  <thead>\n",
       "    <tr style=\"text-align: right;\">\n",
       "      <th></th>\n",
       "      <th>account_id</th>\n",
       "      <th>birthdate</th>\n",
       "      <th>sex</th>\n",
       "      <th>activate_service</th>\n",
       "      <th>age</th>\n",
       "    </tr>\n",
       "    <tr>\n",
       "      <th>client_id</th>\n",
       "      <th></th>\n",
       "      <th></th>\n",
       "      <th></th>\n",
       "      <th></th>\n",
       "      <th></th>\n",
       "    </tr>\n",
       "  </thead>\n",
       "  <tbody>\n",
       "    <tr>\n",
       "      <th>2055</th>\n",
       "      <td>1</td>\n",
       "      <td>1931-02-20</td>\n",
       "      <td>0.0</td>\n",
       "      <td>1</td>\n",
       "      <td>91</td>\n",
       "    </tr>\n",
       "    <tr>\n",
       "      <th>1001</th>\n",
       "      <td>1</td>\n",
       "      <td>1934-08-09</td>\n",
       "      <td>0.0</td>\n",
       "      <td>1</td>\n",
       "      <td>87</td>\n",
       "    </tr>\n",
       "    <tr>\n",
       "      <th>2127</th>\n",
       "      <td>1</td>\n",
       "      <td>1937-02-09</td>\n",
       "      <td>1.0</td>\n",
       "      <td>1</td>\n",
       "      <td>85</td>\n",
       "    </tr>\n",
       "  </tbody>\n",
       "</table>\n",
       "</div>"
      ],
      "text/plain": [
       "           account_id   birthdate  sex  activate_service  age\n",
       "client_id                                                    \n",
       "2055                1  1931-02-20  0.0                 1   91\n",
       "1001                1  1934-08-09  0.0                 1   87\n",
       "2127                1  1937-02-09  1.0                 1   85"
      ]
     },
     "execution_count": 69,
     "metadata": {},
     "output_type": "execute_result"
    }
   ],
   "source": [
    "# Взглянули на самых возрастных клиентов\n",
    "df_clients.sort_values('age', ascending=False).head(3)"
   ]
  },
  {
   "cell_type": "code",
   "execution_count": null,
   "metadata": {
    "colab": {
     "base_uri": "https://localhost:8080/"
    },
    "id": "ChdPgXuIbbRS",
    "outputId": "06c7c7f1-c0d6-4d5e-d166-1e5cf3f9d6de"
   },
   "outputs": [
    {
     "data": {
      "text/plain": [
       "51.32781168265039"
      ]
     },
     "execution_count": 135,
     "metadata": {},
     "output_type": "execute_result"
    }
   ],
   "source": [
    "# Cредний возраст клиента\n",
    "df_clients['age'].mean()"
   ]
  },
  {
   "cell_type": "code",
   "execution_count": 74,
   "metadata": {
    "colab": {
     "base_uri": "https://localhost:8080/",
     "height": 282
    },
    "id": "oIy9fOJDJP8P",
    "outputId": "8bbe6b7e-41da-470a-c887-75767286b3d2"
   },
   "outputs": [
    {
     "data": {
      "text/plain": [
       "Text(0, 0.5, 'Количество')"
      ]
     },
     "execution_count": 74,
     "metadata": {},
     "output_type": "execute_result"
    },
    {
     "data": {
      "image/png": "[encoded data removed]",
      "text/plain": [
       "<Figure size 1152x576 with 1 Axes>"
      ]
     },
     "metadata": {
      "needs_background": "light"
     },
     "output_type": "display_data"
    }
   ],
   "source": [
    "# Сегментация клиентов по возрасту\n",
    "fig = df_clients['age'].plot.hist(figsize=(16,8),bins=[0,14,24,44,64,df_clients['age'].max()])\n",
    "fig.set_title('Возрастные группы')\n",
    "fig.set_xlabel('Возраст')\n",
    "fig.set_ylabel('Количество')"
   ]
  },
  {
   "cell_type": "code",
   "execution_count": 75,
   "metadata": {
    "colab": {
     "base_uri": "https://localhost:8080/",
     "height": 288
    },
    "id": "qJab0mMhctUf",
    "outputId": "43228218-eee3-4556-f223-576b92a0f99a"
   },
   "outputs": [
    {
     "data": {
      "text/plain": [
       "<matplotlib.axes._subplots.AxesSubplot at 0x7fba71b4dcc0>"
      ]
     },
     "execution_count": 75,
     "metadata": {},
     "output_type": "execute_result"
    },
    {
     "data": {
      "image/png": "[encoded data removed]",
      "text/plain": [
       "<Figure size 1152x576 with 1 Axes>"
      ]
     },
     "metadata": {
      "needs_background": "light"
     },
     "output_type": "display_data"
    }
   ],
   "source": [
    "# Пол\n",
    "df_clients['sex'].value_counts().plot.bar(figsize=(16,8))"
   ]
  },
  {
   "cell_type": "code",
   "execution_count": 79,
   "metadata": {
    "colab": {
     "base_uri": "https://localhost:8080/",
     "height": 285
    },
    "id": "Hh3griYMKrTQ",
    "outputId": "7c68734b-2772-4a90-8fff-79d24e452b94"
   },
   "outputs": [
    {
     "data": {
      "text/plain": [
       "Text(0.5, 0, 'Количество подлкючений')"
      ]
     },
     "execution_count": 79,
     "metadata": {},
     "output_type": "execute_result"
    },
    {
     "data": {
      "image/png": "[encoded data removed]",
      "text/plain": [
       "<Figure size 1152x576 with 1 Axes>"
      ]
     },
     "metadata": {
      "needs_background": "light"
     },
     "output_type": "display_data"
    }
   ],
   "source": [
    "# Количетсво клиентов с 1,2,3.. подключенных услуг\n",
    "fig = df_clients['activate_service'].value_counts().plot.bar(figsize=(16,8),width=0.9)\n",
    "fig.set_title('Количство подключений у клиентов')\n",
    "fig.set_ylabel('Клиенты')\n",
    "fig.set_xlabel('Количество подлкючений')"
   ]
  },
  {
   "cell_type": "code",
   "execution_count": 82,
   "metadata": {},
   "outputs": [
    {
     "data": {
      "text/plain": [
       "Text(0.5, 0, 'Счета')"
      ]
     },
     "execution_count": 82,
     "metadata": {},
     "output_type": "execute_result"
    },
    {
     "data": {
      "image/png": "[encoded data removed]",
      "text/plain": [
       "<Figure size 1152x576 with 1 Axes>"
      ]
     },
     "metadata": {
      "needs_background": "light"
     },
     "output_type": "display_data"
    }
   ],
   "source": [
    "fig = df_clients['account_id'].value_counts().plot.bar(figsize=(16,8),width=0.9)\n",
    "fig.set_title('Количство счетов у клиентов')\n",
    "fig.set_ylabel('Клиенты')\n",
    "fig.set_xlabel('Счета')"
   ]
  },
  {
   "cell_type": "code",
   "execution_count": 80,
   "metadata": {
    "colab": {
     "base_uri": "https://localhost:8080/",
     "height": 187
    },
    "id": "P1I8vFpgby8P",
    "outputId": "78d0a40f-d531-4bcb-e0c0-9d583f7aa8a5"
   },
   "outputs": [
    {
     "data": {
      "text/plain": [
       "1.050566695727986"
      ]
     },
     "execution_count": 80,
     "metadata": {},
     "output_type": "execute_result"
    }
   ],
   "source": [
    "# Среднее количество счетов\n",
    "df_clients['account_id'].mean()"
   ]
  },
  {
   "cell_type": "code",
   "execution_count": 83,
   "metadata": {
    "id": "O8Il58dcdBuo"
   },
   "outputs": [
    {
     "data": {
      "text/plain": [
       "1.1900610287707063"
      ]
     },
     "execution_count": 83,
     "metadata": {},
     "output_type": "execute_result"
    }
   ],
   "source": [
    "# Cреднее количетво подключенных услуг\n",
    "df_clients['activate_service'].mean()"
   ]
  },
  {
   "cell_type": "markdown",
   "metadata": {
    "id": "MyOjEwn4dysZ"
   },
   "source": [
    "## Портрет пользователя:\n",
    "Мужчина\n",
    "51 год\n",
    "1 счет\n",
    "1 подключение услуги"
   ]
  },
  {
   "cell_type": "code",
   "execution_count": null,
   "metadata": {},
   "outputs": [],
   "source": []
  }
 ],
 "metadata": {
  "colab": {
   "collapsed_sections": [],
   "name": "test_02.ipynb",
   "provenance": []
  },
  "kernelspec": {
   "display_name": "Python 3",
   "language": "python",
   "name": "python3"
  },
  "language_info": {
   "codemirror_mode": {
    "name": "ipython",
    "version": 3
   },
   "file_extension": ".py",
   "mimetype": "text/x-python",
   "name": "python",
   "nbconvert_exporter": "python",
   "pygments_lexer": "ipython3",
   "version": "3.7.3"
  }
 },
 "nbformat": 4,
 "nbformat_minor": 1
}
